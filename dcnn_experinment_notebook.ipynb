{
 "cells": [
  {
   "cell_type": "markdown",
   "metadata": {},
   "source": [
    "# DCNN test\n",
    "\n",
    "DCNN test notebook is a place for exploring customized layers of dcnn with tensorflow."
   ]
  },
  {
   "cell_type": "code",
   "execution_count": 1,
   "metadata": {},
   "outputs": [],
   "source": [
    "import numpy as np\n",
    "import tensorflow as tf\n",
    "\n",
    "from tensorflow.python import debug as tf_debug"
   ]
  },
  {
   "cell_type": "markdown",
   "metadata": {},
   "source": [
    "*Do Experinemts on the padding function on tensorflow*"
   ]
  },
  {
   "cell_type": "code",
   "execution_count": 2,
   "metadata": {},
   "outputs": [
    {
     "name": "stdout",
     "output_type": "stream",
     "text": [
      "[[0 0 0 0 0 0 0]\n",
      " [0 0 1 2 3 0 0]\n",
      " [0 0 4 5 6 0 0]\n",
      " [0 0 0 0 0 0 0]]\n"
     ]
    }
   ],
   "source": [
    "t = tf.constant([[1, 2, 3], [4, 5, 6]])\n",
    "\n",
    "# Set up the padding values\n",
    "# [1, 1]: Add 1 pad for \"height(row)\" dimension\n",
    "# [2, 2]: Add 2 pads for \"weight(col)\" dimension\n",
    "paddings = tf.constant([[1, 1,], [2, 2]])\n",
    "\n",
    "t_pad = tf.pad(t, paddings, \"CONSTANT\")\n",
    "\n",
    "with tf.Session() as sess:\n",
    "    \n",
    "    r = sess.run(t_pad)\n",
    "    \n",
    "    print(r)"
   ]
  },
  {
   "cell_type": "code",
   "execution_count": 3,
   "metadata": {},
   "outputs": [
    {
     "name": "stdout",
     "output_type": "stream",
     "text": [
      "[[0 0 0 0 0 0 0 0 0 0]\n",
      " [0 0 0 1 2 3 0 0 0 0]\n",
      " [0 0 0 4 5 6 0 0 0 0]\n",
      " [0 0 0 0 0 0 0 0 0 0]\n",
      " [0 0 0 0 0 0 0 0 0 0]]\n"
     ]
    }
   ],
   "source": [
    "# Set up the padding values asymmetric \n",
    "# [1, 2]: Prepend 1 pad before the values and append 2 pads after the values in dimension 0\n",
    "# [3, 4]: Prepend 3 pads befroe the values and append 4 pads after the values in dimension 1\n",
    "paddings = tf.constant([[1, 2], [3, 4]])\n",
    "\n",
    "t_pad = tf.pad(t, paddings, \"CONSTANT\")\n",
    "\n",
    "with tf.Session() as sess:\n",
    "    \n",
    "    print(sess.run(t_pad))\n"
   ]
  },
  {
   "cell_type": "code",
   "execution_count": 4,
   "metadata": {},
   "outputs": [
    {
     "name": "stdout",
     "output_type": "stream",
     "text": [
      "(1, 1, 4, 7)\n",
      "[[[[0 0 0 0 0 0 0]\n",
      "   [0 0 1 2 3 0 0]\n",
      "   [0 0 4 5 6 0 0]\n",
      "   [0 0 0 0 0 0 0]]]]\n"
     ]
    }
   ],
   "source": [
    "t_4d = tf.constant([[[[1, 2, 3], [4, 5, 6]]]])\n",
    "paddings = tf.constant([[0,0], [0,0], [1, 1], [2, 2]])\n",
    "\n",
    "t_pad = tf.pad(t_4d, paddings, \"CONSTANT\")\n",
    "\n",
    "with tf.Session() as sess:\n",
    "    \n",
    "    r = sess.run(t_pad)\n",
    "    print(r.shape)\n",
    "    print(r)"
   ]
  },
  {
   "cell_type": "markdown",
   "metadata": {},
   "source": [
    "## Test: KMaxPooling2D\n",
    "\n",
    "KmaxPooling is a fundamental layer of dynamic cnn. "
   ]
  },
  {
   "cell_type": "markdown",
   "metadata": {},
   "source": [
    "#### Op implementation"
   ]
  },
  {
   "cell_type": "code",
   "execution_count": 112,
   "metadata": {},
   "outputs": [],
   "source": [
    "import math\n",
    "\n",
    "# 20180604 Lin, Y.D.: Read how tensorflow does padding dynamically. \n",
    "def _kmax_pooling2d(X, pool_size, strides, k, padding):\n",
    "    \n",
    "    h = X.shape[0]\n",
    "    w = X.shape[1]\n",
    "    \n",
    "    h_pool = pool_size[0]\n",
    "    w_pool = pool_size[1]\n",
    "\n",
    "    h_stride = strides[0]\n",
    "    w_stride = strides[1]\n",
    "    \n",
    "    h_pad = padding[0]\n",
    "    w_pad = padding[1]\n",
    "    \n",
    "    outputs_h = math.ceil((h+h_pad-h_pool+1)/h_stride)\n",
    "    outputs_w = k * math.ceil((w+w_pad-w_pool+1)/w_stride)\n",
    "    \n",
    "    # 20180612 LIN, Y.D. Bugs are still existed.\n",
    "    outputs = np.zeros((outputs_h, outputs_w), dtype=np.float64)\n",
    "    \n",
    "    m, n = 0, 0\n",
    "    \n",
    "    for i in range(0, h, h_stride):\n",
    "        \n",
    "        for j in range(0, w, w_stride):\n",
    "            \n",
    "            flatten_slice = X[i:i+h_pool, j:j+w_pool].ravel()\n",
    "            top_indices = np.sort(np.argpartition(flatten_slice, -1 * np.arange(k))[-1 * np.arange(k)])\n",
    "            outputs[m, n:n+k] = flatten_slice[top_indices]\n",
    "            \n",
    "            print('top_indices')\n",
    "            print(top_indices)\n",
    "            \n",
    "            n+=k\n",
    "            \n",
    "        m+=1\n",
    "#         top_ks = np.array([], dtype=np.float64)\n",
    "#         stop = False\n",
    "        \n",
    "#         for j in range(0, row, strides):\n",
    "#             if j + pool_size > row:\n",
    "                \n",
    "#                 # 20180531 LIN, Y.D. \n",
    "#                 d = row - j if row -j < k else k\n",
    "#                 top_k_ind = np.argsort(np.argpartition(-1*X[j: row, i], np.arange(d))[:d])\n",
    "#                 top_k = X[j + top_k_ind, i]\n",
    "\n",
    "#                 stop = True\n",
    "                \n",
    "#             else:\n",
    "#                 top_k_ind = np.argsort(np.argpartition(-1*X[j: row, i], np.arange(k))[:k])\n",
    "#                 top_k = X[j + top_k_ind, i]\n",
    "                \n",
    "    \n",
    "#             top_ks = np.concatenate((top_ks, top_k))\n",
    "            \n",
    "#             if stop:\n",
    "#                 break\n",
    "            \n",
    "#         kmax_pool.append(top_ks)\n",
    "        \n",
    "#         i += 1\n",
    "    \n",
    "\n",
    "#     kmax_pool = np.swapaxes(np.stack(kmax_pool), 1, 0)\n",
    "    return outputs"
   ]
  },
  {
   "cell_type": "markdown",
   "metadata": {},
   "source": [
    "#### Layer Implementation"
   ]
  },
  {
   "cell_type": "code",
   "execution_count": 113,
   "metadata": {},
   "outputs": [],
   "source": [
    "#20180607 LIN, Y.D. \n",
    "class KMaxPooling2D(tf.layers.Layer):\n",
    "    \n",
    "    def __init__(self, pool_size, strides, k, padding='valid', name=None, **kwargs):\n",
    "        \n",
    "        super(KMaxPooling2D, self).__init__(name=name, **kwargs)\n",
    "        \n",
    "        if padding != 'same' and padding != 'valid':\n",
    "            raise ValueError('Invalid Padding Options. Only SAME and VALID are valid.')\n",
    "            \n",
    "        # 20180610 LIN, Y.D. Add the exception when \n",
    "        if strides[0] == 0 and strides[1] == 0:\n",
    "            raise ValueError('Invalid Stride Values: At least 1 stride value should be greater than 0.')\n",
    "\n",
    "        self.k = k\n",
    "        self.padding = padding\n",
    "        self.pool_size = pool_size\n",
    "        self.strides = strides\n",
    "    \n",
    "    def call(self, inputs):\n",
    "        \n",
    "        inputs_shape = inputs.get_shape().as_list()\n",
    "        h = inputs_shape[0]\n",
    "        w = inputs_shape[1]\n",
    "        \n",
    "        h_stride = self.strides[0]\n",
    "        w_stride = self.strides[1]\n",
    "        \n",
    "        h_pool_s = self.pool_size[0]\n",
    "        w_pool_s = self.pool_size[1]\n",
    "        \n",
    "        # 20180612 LIN, Y.D. \n",
    "        pool_size = tf.constant(self.pool_size, dtype=tf.int32)\n",
    "        strides   = tf.constant(self.strides, dtype=tf.int32)\n",
    "        k = tf.constant(self.k, dtype=tf.int32)\n",
    "        padding = tf.constant([0, 0], dtype=tf.int32)\n",
    "        \n",
    "        if self.padding == 'valid':\n",
    "            if ((h - h_pool_s) / h_stride + 1) % 1 != 0:\n",
    "                raise ValueError\n",
    "            if ((w - w_pool_s) / w_stride + 1) % 1 != 0:\n",
    "                raise ValueError\n",
    "        \n",
    "        elif self.padding == 'same':\n",
    "            \n",
    "            h_mod = h % h_stride\n",
    "            w_mod = w % w_stride\n",
    "        \n",
    "            if h_mod == 0:\n",
    "                h_pad = max([h_pool_s - h_stride, 0])\n",
    "            else:\n",
    "                h_pad = max([h_pool_s - h_mod, 0])\n",
    "            \n",
    "            if w_mod == 0:\n",
    "                w_pad = max([w_pool_s - w_stride, 0])\n",
    "            else:\n",
    "                w_pad = max([w_pool_s - w_mod, 0])\n",
    "        \n",
    "            # 20180606 Y.D. Padding input with 0.\n",
    "            h_pad_mod_2 = h_pad % 2\n",
    "            w_pad_mod_2 = w_pad % 2\n",
    "        \n",
    "            if h_pad_mod_2 == 0:\n",
    "                h_pad_top, h_pad_bottom = h_pad//2, h_pad//2\n",
    "            else:\n",
    "                h_pad_top, h_pad_bottom = h_pad//2, h_pad//2 + h_pad_mod_2\n",
    "    \n",
    "            if w_pad_mod_2 == 0:\n",
    "                w_pad_left, w_pad_right = w_pad//2, w_pad//2\n",
    "            else:\n",
    "                w_pad_left, w_pad_right = w_pad//2, w_pad//2 + w_pad_mod_2\n",
    "        \n",
    "            pad_vals = tf.constant(\n",
    "                [[0, 0], [h_pad_top, h_pad_bottom], [w_pad_left, w_pad_right], [0, 0]], \n",
    "                dtype=tf.int32)\n",
    "        \n",
    "            inputs = tf.pad(inputs, pad_vals, \"CONSTANT\")\n",
    "            \n",
    "            # 20180612 LIN, Y.D. Update inputs\n",
    "            padding = tf.constant([h_pad_top+h_pad_bottom, w_pad_left+w_pad_right], dtype=tf.int32)\n",
    "        \n",
    "        outputs = tf.py_func(_kmax_pooling2d, [inputs, pool_size, strides, k, padding], tf.float64)\n",
    "        \n",
    "        return outputs\n",
    "    \n",
    "    # 20180610 LIN, Y.D. TODO: Cannot figure out when to trigger it.\n",
    "#     def compute_output_shape(self, input_shape):\n",
    "        \n",
    "#         print('Compute output shape')\n",
    "        \n",
    "#         input_shape = tensor_shape.TensorShape(input_shape).as_list()\n",
    "#         h = input_shape[1]\n",
    "#         w = input_shape[2]\n",
    "        \n",
    "#         h_stride = self.strides[1]\n",
    "#         w_stride = self.strides[2]\n",
    "        \n",
    "#         if self.padding == 'valid':\n",
    "#             if ((h - h_pool_s) / h_stride + 1) % 1 != 0:\n",
    "#                 raise ValueError\n",
    "#             if ((w - w_pool_s) / w_stride + 1) % 1 != 0:\n",
    "#                 raise ValueError\n",
    "        \n",
    "#         elif self.padding == 'same':\n",
    "            \n",
    "#             h_mod = h % h_stride\n",
    "#             w_mod = w % w_stride\n",
    "        \n",
    "#             if h_mod == 0:\n",
    "#                 h_pad = max([h_pool_s - h_stride, 0])\n",
    "#             else:\n",
    "#                 h_pad = max([h_pool_s - h_mod, 0])\n",
    "            \n",
    "#             if w_mod == 0:\n",
    "#                 w_pad = max([w_pool_s - w_stride, 0])\n",
    "#             else:\n",
    "#                 w_pad = max([w_pool_s - w_mod, 0])\n",
    "        \n",
    "#             # 20180606 Y.D. Padding input with 0.\n",
    "#             h_pad_mod_2 = h_pad % 2\n",
    "#             w_pad_mod_2 = w_pad % 2\n",
    "        \n",
    "#             if h_pad_mod_2 == 0:\n",
    "#                 h_pad_top, h_pad_bottom = h_pad//2, h_pad//2\n",
    "#             else:\n",
    "#                 h_pad_top, h_pad_bottom = h_pad//2, h_pad//2 + h_pad_mod_2\n",
    "    \n",
    "#             if w_pad_mod_2 == 0:\n",
    "#                 w_pad_left, w_pad_right = w_pad//2, w_pad//2\n",
    "#             else:\n",
    "#                 w_pad_left, w_pad_right = w_pad//2, w_pad//2 + w_pad_mod_2\n",
    "        \n",
    "#         return tensor_shape.TensorShape(\n",
    "#           [input_shape[0], h+h_pad, w+w_pad, input_shape[3]])\n",
    "        "
   ]
  },
  {
   "cell_type": "code",
   "execution_count": 114,
   "metadata": {},
   "outputs": [],
   "source": [
    "def kmax_pooling2d(inputs, pool_size, strides, k, padding, name=None):\n",
    "    return KMaxPooling2D(pool_size, strides, k, padding=padding, name=name).apply(inputs)"
   ]
  },
  {
   "cell_type": "code",
   "execution_count": 116,
   "metadata": {},
   "outputs": [
    {
     "name": "stdout",
     "output_type": "stream",
     "text": [
      "top_indices\n",
      "[3 4]\n",
      "top_indices\n",
      "[0 3]\n",
      "top_indices\n",
      "[0 3]\n",
      "[[0. 3. 3. 0. 0. 0.]]\n",
      "(1, 6)\n",
      "----------\n"
     ]
    }
   ],
   "source": [
    "# 20180605 LIN, Y.D.\n",
    "with tf.Session() as sess:\n",
    "    \n",
    "    # Try if layer works as we all image\n",
    "    test_x = np.array([[[1,1,3], [3,1,2]]], dtype=np.float64)\n",
    "    test_input = tf.placeholder(tf.float64, (1, 2, 3))\n",
    "    test_reshape = tf.reshape(test_input, shape=(1,2,3,1))\n",
    "    \n",
    "    # Test Case 1: \n",
    "    test_layer = kmax_pooling2d(test_reshape, [2, 2], [1, 1], 2, 'same')\n",
    "    res = sess.run(test_layer, feed_dict={test_input: test_x })\n",
    "    print(res)\n",
    "    print(res.shape)\n",
    "    print('-' * 10)\n",
    "    \n",
    "    # Test Case 2: Test if exception work.\n",
    "#     test_layer_2 = kmax_pooling2d(test_reshape, [3, 3], [0, 0], 2, 'same')\n",
    "#     res = sess.run(test_layer_2, feed_dict={test_input: test_x })\n",
    "#     print(res)\n",
    "#     print(res.shape)\n",
    "#     print('-' * 10)\n",
    "    \n",
    "    # Test Case 3:\n",
    "#     test_x_3 = np.array([[[1, 2, 3], [3, 1, 2], [2, 1, 3]]], dtype=np.float64)\n",
    "#     test_input_3 = tf.placeholder(tf.float64, (1, 2, 3))\n",
    "#     test_layer_3 = kmax_pooling2d(test_input_3, [2, 2], [1, 1], 2, 'valid')\n",
    "#     res = sess.run(test_layer_3, feed_dict={ test_input_3: test_x })\n",
    "#     print(res)\n",
    "#     print(res.shape)\n",
    "    \n",
    "    \n",
    "    \n",
    "\n"
   ]
  },
  {
   "cell_type": "code",
   "execution_count": 100,
   "metadata": {},
   "outputs": [
    {
     "name": "stdout",
     "output_type": "stream",
     "text": [
      "[0 2 1 2 3 5 6 7]\n",
      "[7 6]\n",
      "[5 4]\n",
      "[6 7]\n"
     ]
    }
   ],
   "source": [
    "test_array = np.array([3,2,1,5,6,7,0,2])\n",
    "print(test_array[np.argpartition(test_array, [-1,-2])])\n",
    "print(test_array[np.argpartition(test_array, [-1,-2])][-1 * np.arange(1, 3)])\n",
    "print(np.argpartition(test_array, [-1,-2])[-1 * np.arange(1, 3)])\n",
    "print(test_array[np.sort(np.argpartition(test_array, [-1,-2])[-1 * np.arange(1, 3)])])\n",
    "# print(np.argsort(np.argpartition(test_array, [-1,-2])[-1 * np.arange(1, 3)]))\n",
    "# print(test_array[np.argsort(np.argpartition(test_array, [-1,-2]))])"
   ]
  },
  {
   "cell_type": "code",
   "execution_count": 31,
   "metadata": {},
   "outputs": [
    {
     "ename": "ValueError",
     "evalue": "Negative dimension size caused by subtracting 5 from 2 for 'max_pooling2d_3/MaxPool' (op: 'MaxPool') with input shapes: [1,2,3,1].",
     "output_type": "error",
     "traceback": [
      "\u001b[0;31m---------------------------------------------------------------------------\u001b[0m",
      "\u001b[0;31mInvalidArgumentError\u001b[0m                      Traceback (most recent call last)",
      "\u001b[0;32m~/.pyenv/versions/tensorflow-py36/lib/python3.6/site-packages/tensorflow/python/framework/ops.py\u001b[0m in \u001b[0;36m_create_c_op\u001b[0;34m(graph, node_def, inputs, control_inputs)\u001b[0m\n\u001b[1;32m   1566\u001b[0m   \u001b[0;32mtry\u001b[0m\u001b[0;34m:\u001b[0m\u001b[0;34m\u001b[0m\u001b[0m\n\u001b[0;32m-> 1567\u001b[0;31m     \u001b[0mc_op\u001b[0m \u001b[0;34m=\u001b[0m \u001b[0mc_api\u001b[0m\u001b[0;34m.\u001b[0m\u001b[0mTF_FinishOperation\u001b[0m\u001b[0;34m(\u001b[0m\u001b[0mop_desc\u001b[0m\u001b[0;34m)\u001b[0m\u001b[0;34m\u001b[0m\u001b[0m\n\u001b[0m\u001b[1;32m   1568\u001b[0m   \u001b[0;32mexcept\u001b[0m \u001b[0merrors\u001b[0m\u001b[0;34m.\u001b[0m\u001b[0mInvalidArgumentError\u001b[0m \u001b[0;32mas\u001b[0m \u001b[0me\u001b[0m\u001b[0;34m:\u001b[0m\u001b[0;34m\u001b[0m\u001b[0m\n",
      "\u001b[0;31mInvalidArgumentError\u001b[0m: Negative dimension size caused by subtracting 5 from 2 for 'max_pooling2d_3/MaxPool' (op: 'MaxPool') with input shapes: [1,2,3,1].",
      "\nDuring handling of the above exception, another exception occurred:\n",
      "\u001b[0;31mValueError\u001b[0m                                Traceback (most recent call last)",
      "\u001b[0;32m<ipython-input-31-6b50e143c0b8>\u001b[0m in \u001b[0;36m<module>\u001b[0;34m()\u001b[0m\n\u001b[1;32m      3\u001b[0m     \u001b[0mtest_input\u001b[0m \u001b[0;34m=\u001b[0m \u001b[0mtf\u001b[0m\u001b[0;34m.\u001b[0m\u001b[0mplaceholder\u001b[0m\u001b[0;34m(\u001b[0m\u001b[0mtf\u001b[0m\u001b[0;34m.\u001b[0m\u001b[0mfloat64\u001b[0m\u001b[0;34m,\u001b[0m \u001b[0;34m(\u001b[0m\u001b[0;36m1\u001b[0m\u001b[0;34m,\u001b[0m \u001b[0;36m2\u001b[0m\u001b[0;34m,\u001b[0m \u001b[0;36m3\u001b[0m\u001b[0;34m)\u001b[0m\u001b[0;34m)\u001b[0m\u001b[0;34m\u001b[0m\u001b[0m\n\u001b[1;32m      4\u001b[0m     \u001b[0mtest_reshape\u001b[0m \u001b[0;34m=\u001b[0m \u001b[0mtf\u001b[0m\u001b[0;34m.\u001b[0m\u001b[0mreshape\u001b[0m\u001b[0;34m(\u001b[0m\u001b[0mtest_input\u001b[0m\u001b[0;34m,\u001b[0m \u001b[0mshape\u001b[0m\u001b[0;34m=\u001b[0m\u001b[0;34m(\u001b[0m\u001b[0;36m1\u001b[0m\u001b[0;34m,\u001b[0m\u001b[0;36m2\u001b[0m\u001b[0;34m,\u001b[0m\u001b[0;36m3\u001b[0m\u001b[0;34m,\u001b[0m\u001b[0;36m1\u001b[0m\u001b[0;34m)\u001b[0m\u001b[0;34m)\u001b[0m\u001b[0;34m\u001b[0m\u001b[0m\n\u001b[0;32m----> 5\u001b[0;31m     \u001b[0mpool2d\u001b[0m \u001b[0;34m=\u001b[0m \u001b[0mtf\u001b[0m\u001b[0;34m.\u001b[0m\u001b[0mlayers\u001b[0m\u001b[0;34m.\u001b[0m\u001b[0mmax_pooling2d\u001b[0m\u001b[0;34m(\u001b[0m\u001b[0mtest_reshape\u001b[0m\u001b[0;34m,\u001b[0m \u001b[0;34m[\u001b[0m\u001b[0;36m5\u001b[0m\u001b[0;34m,\u001b[0m \u001b[0;36m5\u001b[0m\u001b[0;34m]\u001b[0m\u001b[0;34m,\u001b[0m \u001b[0;34m[\u001b[0m\u001b[0;36m1\u001b[0m\u001b[0;34m,\u001b[0m \u001b[0;36m1\u001b[0m\u001b[0;34m]\u001b[0m\u001b[0;34m)\u001b[0m\u001b[0;34m\u001b[0m\u001b[0m\n\u001b[0m\u001b[1;32m      6\u001b[0m \u001b[0;34m\u001b[0m\u001b[0m\n\u001b[1;32m      7\u001b[0m     \u001b[0mres\u001b[0m \u001b[0;34m=\u001b[0m \u001b[0msess\u001b[0m\u001b[0;34m.\u001b[0m\u001b[0mrun\u001b[0m\u001b[0;34m(\u001b[0m\u001b[0mpool2d\u001b[0m\u001b[0;34m,\u001b[0m \u001b[0mfeed_dict\u001b[0m\u001b[0;34m=\u001b[0m\u001b[0;34m{\u001b[0m \u001b[0mtest_input\u001b[0m\u001b[0;34m:\u001b[0m \u001b[0mtest_x\u001b[0m\u001b[0;34m}\u001b[0m\u001b[0;34m)\u001b[0m\u001b[0;34m\u001b[0m\u001b[0m\n",
      "\u001b[0;32m~/.pyenv/versions/tensorflow-py36/lib/python3.6/site-packages/tensorflow/python/layers/pooling.py\u001b[0m in \u001b[0;36mmax_pooling2d\u001b[0;34m(inputs, pool_size, strides, padding, data_format, name)\u001b[0m\n\u001b[1;32m    440\u001b[0m                        \u001b[0mpadding\u001b[0m\u001b[0;34m=\u001b[0m\u001b[0mpadding\u001b[0m\u001b[0;34m,\u001b[0m \u001b[0mdata_format\u001b[0m\u001b[0;34m=\u001b[0m\u001b[0mdata_format\u001b[0m\u001b[0;34m,\u001b[0m\u001b[0;34m\u001b[0m\u001b[0m\n\u001b[1;32m    441\u001b[0m                        name=name)\n\u001b[0;32m--> 442\u001b[0;31m   \u001b[0;32mreturn\u001b[0m \u001b[0mlayer\u001b[0m\u001b[0;34m.\u001b[0m\u001b[0mapply\u001b[0m\u001b[0;34m(\u001b[0m\u001b[0minputs\u001b[0m\u001b[0;34m)\u001b[0m\u001b[0;34m\u001b[0m\u001b[0m\n\u001b[0m\u001b[1;32m    443\u001b[0m \u001b[0;34m\u001b[0m\u001b[0m\n\u001b[1;32m    444\u001b[0m \u001b[0;34m\u001b[0m\u001b[0m\n",
      "\u001b[0;32m~/.pyenv/versions/tensorflow-py36/lib/python3.6/site-packages/tensorflow/python/layers/base.py\u001b[0m in \u001b[0;36mapply\u001b[0;34m(self, inputs, *args, **kwargs)\u001b[0m\n\u001b[1;32m    826\u001b[0m       \u001b[0mOutput\u001b[0m \u001b[0mtensor\u001b[0m\u001b[0;34m(\u001b[0m\u001b[0ms\u001b[0m\u001b[0;34m)\u001b[0m\u001b[0;34m.\u001b[0m\u001b[0;34m\u001b[0m\u001b[0m\n\u001b[1;32m    827\u001b[0m     \"\"\"\n\u001b[0;32m--> 828\u001b[0;31m     \u001b[0;32mreturn\u001b[0m \u001b[0mself\u001b[0m\u001b[0;34m.\u001b[0m\u001b[0m__call__\u001b[0m\u001b[0;34m(\u001b[0m\u001b[0minputs\u001b[0m\u001b[0;34m,\u001b[0m \u001b[0;34m*\u001b[0m\u001b[0margs\u001b[0m\u001b[0;34m,\u001b[0m \u001b[0;34m**\u001b[0m\u001b[0mkwargs\u001b[0m\u001b[0;34m)\u001b[0m\u001b[0;34m\u001b[0m\u001b[0m\n\u001b[0m\u001b[1;32m    829\u001b[0m \u001b[0;34m\u001b[0m\u001b[0m\n\u001b[1;32m    830\u001b[0m   def _add_inbound_node(self,\n",
      "\u001b[0;32m~/.pyenv/versions/tensorflow-py36/lib/python3.6/site-packages/tensorflow/python/layers/base.py\u001b[0m in \u001b[0;36m__call__\u001b[0;34m(self, inputs, *args, **kwargs)\u001b[0m\n\u001b[1;32m    715\u001b[0m \u001b[0;34m\u001b[0m\u001b[0m\n\u001b[1;32m    716\u001b[0m         \u001b[0;32mif\u001b[0m \u001b[0;32mnot\u001b[0m \u001b[0min_deferred_mode\u001b[0m\u001b[0;34m:\u001b[0m\u001b[0;34m\u001b[0m\u001b[0m\n\u001b[0;32m--> 717\u001b[0;31m           \u001b[0moutputs\u001b[0m \u001b[0;34m=\u001b[0m \u001b[0mself\u001b[0m\u001b[0;34m.\u001b[0m\u001b[0mcall\u001b[0m\u001b[0;34m(\u001b[0m\u001b[0minputs\u001b[0m\u001b[0;34m,\u001b[0m \u001b[0;34m*\u001b[0m\u001b[0margs\u001b[0m\u001b[0;34m,\u001b[0m \u001b[0;34m**\u001b[0m\u001b[0mkwargs\u001b[0m\u001b[0;34m)\u001b[0m\u001b[0;34m\u001b[0m\u001b[0m\n\u001b[0m\u001b[1;32m    718\u001b[0m           \u001b[0;32mif\u001b[0m \u001b[0moutputs\u001b[0m \u001b[0;32mis\u001b[0m \u001b[0;32mNone\u001b[0m\u001b[0;34m:\u001b[0m\u001b[0;34m\u001b[0m\u001b[0m\n\u001b[1;32m    719\u001b[0m             raise ValueError('A layer\\'s `call` method should return a Tensor '\n",
      "\u001b[0;32m~/.pyenv/versions/tensorflow-py36/lib/python3.6/site-packages/tensorflow/python/layers/pooling.py\u001b[0m in \u001b[0;36mcall\u001b[0;34m(self, inputs)\u001b[0m\n\u001b[1;32m    280\u001b[0m         \u001b[0mstrides\u001b[0m\u001b[0;34m=\u001b[0m\u001b[0mstrides\u001b[0m\u001b[0;34m,\u001b[0m\u001b[0;34m\u001b[0m\u001b[0m\n\u001b[1;32m    281\u001b[0m         \u001b[0mpadding\u001b[0m\u001b[0;34m=\u001b[0m\u001b[0mself\u001b[0m\u001b[0;34m.\u001b[0m\u001b[0mpadding\u001b[0m\u001b[0;34m.\u001b[0m\u001b[0mupper\u001b[0m\u001b[0;34m(\u001b[0m\u001b[0;34m)\u001b[0m\u001b[0;34m,\u001b[0m\u001b[0;34m\u001b[0m\u001b[0m\n\u001b[0;32m--> 282\u001b[0;31m         data_format=utils.convert_data_format(self.data_format, 4))\n\u001b[0m\u001b[1;32m    283\u001b[0m     \u001b[0;32mreturn\u001b[0m \u001b[0moutputs\u001b[0m\u001b[0;34m\u001b[0m\u001b[0m\n\u001b[1;32m    284\u001b[0m \u001b[0;34m\u001b[0m\u001b[0m\n",
      "\u001b[0;32m~/.pyenv/versions/tensorflow-py36/lib/python3.6/site-packages/tensorflow/python/ops/nn_ops.py\u001b[0m in \u001b[0;36mmax_pool\u001b[0;34m(value, ksize, strides, padding, data_format, name)\u001b[0m\n\u001b[1;32m   2140\u001b[0m         \u001b[0mpadding\u001b[0m\u001b[0;34m=\u001b[0m\u001b[0mpadding\u001b[0m\u001b[0;34m,\u001b[0m\u001b[0;34m\u001b[0m\u001b[0m\n\u001b[1;32m   2141\u001b[0m         \u001b[0mdata_format\u001b[0m\u001b[0;34m=\u001b[0m\u001b[0mdata_format\u001b[0m\u001b[0;34m,\u001b[0m\u001b[0;34m\u001b[0m\u001b[0m\n\u001b[0;32m-> 2142\u001b[0;31m         name=name)\n\u001b[0m\u001b[1;32m   2143\u001b[0m \u001b[0;34m\u001b[0m\u001b[0m\n\u001b[1;32m   2144\u001b[0m \u001b[0;34m\u001b[0m\u001b[0m\n",
      "\u001b[0;32m~/.pyenv/versions/tensorflow-py36/lib/python3.6/site-packages/tensorflow/python/ops/gen_nn_ops.py\u001b[0m in \u001b[0;36mmax_pool\u001b[0;34m(input, ksize, strides, padding, data_format, name)\u001b[0m\n\u001b[1;32m   4602\u001b[0m     _, _, _op = _op_def_lib._apply_op_helper(\n\u001b[1;32m   4603\u001b[0m         \u001b[0;34m\"MaxPool\"\u001b[0m\u001b[0;34m,\u001b[0m \u001b[0minput\u001b[0m\u001b[0;34m=\u001b[0m\u001b[0minput\u001b[0m\u001b[0;34m,\u001b[0m \u001b[0mksize\u001b[0m\u001b[0;34m=\u001b[0m\u001b[0mksize\u001b[0m\u001b[0;34m,\u001b[0m \u001b[0mstrides\u001b[0m\u001b[0;34m=\u001b[0m\u001b[0mstrides\u001b[0m\u001b[0;34m,\u001b[0m \u001b[0mpadding\u001b[0m\u001b[0;34m=\u001b[0m\u001b[0mpadding\u001b[0m\u001b[0;34m,\u001b[0m\u001b[0;34m\u001b[0m\u001b[0m\n\u001b[0;32m-> 4604\u001b[0;31m         data_format=data_format, name=name)\n\u001b[0m\u001b[1;32m   4605\u001b[0m     \u001b[0m_result\u001b[0m \u001b[0;34m=\u001b[0m \u001b[0m_op\u001b[0m\u001b[0;34m.\u001b[0m\u001b[0moutputs\u001b[0m\u001b[0;34m[\u001b[0m\u001b[0;34m:\u001b[0m\u001b[0;34m]\u001b[0m\u001b[0;34m\u001b[0m\u001b[0m\n\u001b[1;32m   4606\u001b[0m     \u001b[0m_inputs_flat\u001b[0m \u001b[0;34m=\u001b[0m \u001b[0m_op\u001b[0m\u001b[0;34m.\u001b[0m\u001b[0minputs\u001b[0m\u001b[0;34m\u001b[0m\u001b[0m\n",
      "\u001b[0;32m~/.pyenv/versions/tensorflow-py36/lib/python3.6/site-packages/tensorflow/python/framework/op_def_library.py\u001b[0m in \u001b[0;36m_apply_op_helper\u001b[0;34m(self, op_type_name, name, **keywords)\u001b[0m\n\u001b[1;32m    785\u001b[0m         op = g.create_op(op_type_name, inputs, output_types, name=scope,\n\u001b[1;32m    786\u001b[0m                          \u001b[0minput_types\u001b[0m\u001b[0;34m=\u001b[0m\u001b[0minput_types\u001b[0m\u001b[0;34m,\u001b[0m \u001b[0mattrs\u001b[0m\u001b[0;34m=\u001b[0m\u001b[0mattr_protos\u001b[0m\u001b[0;34m,\u001b[0m\u001b[0;34m\u001b[0m\u001b[0m\n\u001b[0;32m--> 787\u001b[0;31m                          op_def=op_def)\n\u001b[0m\u001b[1;32m    788\u001b[0m       \u001b[0;32mreturn\u001b[0m \u001b[0moutput_structure\u001b[0m\u001b[0;34m,\u001b[0m \u001b[0mop_def\u001b[0m\u001b[0;34m.\u001b[0m\u001b[0mis_stateful\u001b[0m\u001b[0;34m,\u001b[0m \u001b[0mop\u001b[0m\u001b[0;34m\u001b[0m\u001b[0m\n\u001b[1;32m    789\u001b[0m \u001b[0;34m\u001b[0m\u001b[0m\n",
      "\u001b[0;32m~/.pyenv/versions/tensorflow-py36/lib/python3.6/site-packages/tensorflow/python/framework/ops.py\u001b[0m in \u001b[0;36mcreate_op\u001b[0;34m(self, op_type, inputs, dtypes, input_types, name, attrs, op_def, compute_shapes, compute_device)\u001b[0m\n\u001b[1;32m   3390\u001b[0m           \u001b[0minput_types\u001b[0m\u001b[0;34m=\u001b[0m\u001b[0minput_types\u001b[0m\u001b[0;34m,\u001b[0m\u001b[0;34m\u001b[0m\u001b[0m\n\u001b[1;32m   3391\u001b[0m           \u001b[0moriginal_op\u001b[0m\u001b[0;34m=\u001b[0m\u001b[0mself\u001b[0m\u001b[0;34m.\u001b[0m\u001b[0m_default_original_op\u001b[0m\u001b[0;34m,\u001b[0m\u001b[0;34m\u001b[0m\u001b[0m\n\u001b[0;32m-> 3392\u001b[0;31m           op_def=op_def)\n\u001b[0m\u001b[1;32m   3393\u001b[0m \u001b[0;34m\u001b[0m\u001b[0m\n\u001b[1;32m   3394\u001b[0m       \u001b[0;31m# Note: shapes are lazily computed with the C API enabled.\u001b[0m\u001b[0;34m\u001b[0m\u001b[0;34m\u001b[0m\u001b[0m\n",
      "\u001b[0;32m~/.pyenv/versions/tensorflow-py36/lib/python3.6/site-packages/tensorflow/python/framework/ops.py\u001b[0m in \u001b[0;36m__init__\u001b[0;34m(self, node_def, g, inputs, output_types, control_inputs, input_types, original_op, op_def)\u001b[0m\n\u001b[1;32m   1732\u001b[0m           op_def, inputs, node_def.attr)\n\u001b[1;32m   1733\u001b[0m       self._c_op = _create_c_op(self._graph, node_def, grouped_inputs,\n\u001b[0;32m-> 1734\u001b[0;31m                                 control_input_ops)\n\u001b[0m\u001b[1;32m   1735\u001b[0m     \u001b[0;32melse\u001b[0m\u001b[0;34m:\u001b[0m\u001b[0;34m\u001b[0m\u001b[0m\n\u001b[1;32m   1736\u001b[0m       \u001b[0mself\u001b[0m\u001b[0;34m.\u001b[0m\u001b[0m_c_op\u001b[0m \u001b[0;34m=\u001b[0m \u001b[0;32mNone\u001b[0m\u001b[0;34m\u001b[0m\u001b[0m\n",
      "\u001b[0;32m~/.pyenv/versions/tensorflow-py36/lib/python3.6/site-packages/tensorflow/python/framework/ops.py\u001b[0m in \u001b[0;36m_create_c_op\u001b[0;34m(graph, node_def, inputs, control_inputs)\u001b[0m\n\u001b[1;32m   1568\u001b[0m   \u001b[0;32mexcept\u001b[0m \u001b[0merrors\u001b[0m\u001b[0;34m.\u001b[0m\u001b[0mInvalidArgumentError\u001b[0m \u001b[0;32mas\u001b[0m \u001b[0me\u001b[0m\u001b[0;34m:\u001b[0m\u001b[0;34m\u001b[0m\u001b[0m\n\u001b[1;32m   1569\u001b[0m     \u001b[0;31m# Convert to ValueError for backwards compatibility.\u001b[0m\u001b[0;34m\u001b[0m\u001b[0;34m\u001b[0m\u001b[0m\n\u001b[0;32m-> 1570\u001b[0;31m     \u001b[0;32mraise\u001b[0m \u001b[0mValueError\u001b[0m\u001b[0;34m(\u001b[0m\u001b[0mstr\u001b[0m\u001b[0;34m(\u001b[0m\u001b[0me\u001b[0m\u001b[0;34m)\u001b[0m\u001b[0;34m)\u001b[0m\u001b[0;34m\u001b[0m\u001b[0m\n\u001b[0m\u001b[1;32m   1571\u001b[0m \u001b[0;34m\u001b[0m\u001b[0m\n\u001b[1;32m   1572\u001b[0m   \u001b[0;32mreturn\u001b[0m \u001b[0mc_op\u001b[0m\u001b[0;34m\u001b[0m\u001b[0m\n",
      "\u001b[0;31mValueError\u001b[0m: Negative dimension size caused by subtracting 5 from 2 for 'max_pooling2d_3/MaxPool' (op: 'MaxPool') with input shapes: [1,2,3,1]."
     ]
    }
   ],
   "source": [
    "with tf.Session() as sess:\n",
    "    test_x = np.array([[[1,1,3], [3,1,2]]], dtype=np.float64)\n",
    "    test_input = tf.placeholder(tf.float64, (1, 2, 3))\n",
    "    test_reshape = tf.reshape(test_input, shape=(1,2,3,1))\n",
    "    pool2d = tf.layers.max_pooling2d(test_reshape, [5, 5], [1, 1])\n",
    "    \n",
    "    res = sess.run(pool2d, feed_dict={ test_input: test_x})\n",
    "    print(res)"
   ]
  },
  {
   "cell_type": "code",
   "execution_count": 16,
   "metadata": {},
   "outputs": [
    {
     "name": "stdout",
     "output_type": "stream",
     "text": [
      "test\n"
     ]
    }
   ],
   "source": [
    "print('test')"
   ]
  },
  {
   "cell_type": "code",
   "execution_count": null,
   "metadata": {},
   "outputs": [],
   "source": [
    "# 20180609 LIN, Y.D. Test space_to_batch\n",
    "test_x_1 = np.array([[[[1,1,3], [3,1,2]]]], dtype=np.float64)\n",
    "test_x_1_placeholder = tf.placeholder(tf.float64, (1, 2, 3, 1))\n",
    "padding_values = tf.constant([[2,2], [1,1]], dtype=tf.int32)\n",
    "space_to_batch = tf.space_to_batch(test_x_1_placeholder, padding_values, )"
   ]
  },
  {
   "cell_type": "markdown",
   "metadata": {},
   "source": [
    "## Test: Folding\n",
    "\n",
    "Folding is introduced before the last KMax layer."
   ]
  },
  {
   "cell_type": "code",
   "execution_count": null,
   "metadata": {},
   "outputs": [],
   "source": []
  },
  {
   "cell_type": "markdown",
   "metadata": {},
   "source": [
    "## Test: Varied Length Input\n",
    "\n",
    "Varied length of text as input.\n"
   ]
  },
  {
   "cell_type": "code",
   "execution_count": null,
   "metadata": {},
   "outputs": [],
   "source": []
  },
  {
   "cell_type": "markdown",
   "metadata": {},
   "source": [
    "## Test: Stack a \"non-deep\" dcnn (1)\n",
    "\n",
    "We stack a shallow dcnn to make sure no bug exists in inference stage.\n"
   ]
  },
  {
   "cell_type": "code",
   "execution_count": null,
   "metadata": {},
   "outputs": [],
   "source": []
  },
  {
   "cell_type": "markdown",
   "metadata": {},
   "source": [
    "## Test: Stack a \"non-deep\" dcnn (2)\n",
    "\n",
    "Train a \"non-deep\" dcnn with varied length as input."
   ]
  },
  {
   "cell_type": "code",
   "execution_count": null,
   "metadata": {},
   "outputs": [],
   "source": []
  },
  {
   "cell_type": "code",
   "execution_count": null,
   "metadata": {},
   "outputs": [],
   "source": []
  }
 ],
 "metadata": {
  "kernelspec": {
   "display_name": "Python 3",
   "language": "python",
   "name": "python3"
  },
  "language_info": {
   "codemirror_mode": {
    "name": "ipython",
    "version": 3
   },
   "file_extension": ".py",
   "mimetype": "text/x-python",
   "name": "python",
   "nbconvert_exporter": "python",
   "pygments_lexer": "ipython3",
   "version": "3.6.1"
  }
 },
 "nbformat": 4,
 "nbformat_minor": 2
}
