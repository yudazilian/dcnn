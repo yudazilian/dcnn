{
 "cells": [
  {
   "cell_type": "markdown",
   "metadata": {},
   "source": [
    "# DCNN test\n",
    "\n",
    "DCNN test notebook is a place for exploring customized layers of dcnn with tensorflow."
   ]
  },
  {
   "cell_type": "code",
   "execution_count": 1,
   "metadata": {},
   "outputs": [],
   "source": [
    "import numpy as np\n",
    "import tensorflow as tf\n",
    "\n",
    "# from tensorflow.python import debug as tf_debug"
   ]
  },
  {
   "cell_type": "markdown",
   "metadata": {},
   "source": [
    "*Do Experinemts on the padding function on tensorflow*"
   ]
  },
  {
   "cell_type": "code",
   "execution_count": 2,
   "metadata": {},
   "outputs": [
    {
     "name": "stdout",
     "output_type": "stream",
     "text": [
      "[[0 0 0 0 0 0 0]\n",
      " [0 0 1 2 3 0 0]\n",
      " [0 0 4 5 6 0 0]\n",
      " [0 0 0 0 0 0 0]]\n"
     ]
    }
   ],
   "source": [
    "t = tf.constant([[1, 2, 3], [4, 5, 6]])\n",
    "\n",
    "# Set up the padding values\n",
    "# [1, 1]: Add 1 pad for \"height(row)\" dimension\n",
    "# [2, 2]: Add 2 pads for \"weight(col)\" dimension\n",
    "paddings = tf.constant([[1, 1,], [2, 2]])\n",
    "\n",
    "t_pad = tf.pad(t, paddings, \"CONSTANT\")\n",
    "\n",
    "with tf.Session() as sess:\n",
    "    \n",
    "    r = sess.run(t_pad)\n",
    "    \n",
    "    print(r)"
   ]
  },
  {
   "cell_type": "code",
   "execution_count": 3,
   "metadata": {},
   "outputs": [
    {
     "name": "stdout",
     "output_type": "stream",
     "text": [
      "[[0 0 0 0 0 0 0 0 0 0]\n",
      " [0 0 0 1 2 3 0 0 0 0]\n",
      " [0 0 0 4 5 6 0 0 0 0]\n",
      " [0 0 0 0 0 0 0 0 0 0]\n",
      " [0 0 0 0 0 0 0 0 0 0]]\n"
     ]
    }
   ],
   "source": [
    "# Set up the padding values asymmetric \n",
    "# [1, 2]: Prepend 1 pad before the values and append 2 pads after the values in dimension 0\n",
    "# [3, 4]: Prepend 3 pads befroe the values and append 4 pads after the values in dimension 1\n",
    "paddings = tf.constant([[1, 2], [3, 4]])\n",
    "\n",
    "t_pad = tf.pad(t, paddings, \"CONSTANT\")\n",
    "\n",
    "with tf.Session() as sess:\n",
    "    \n",
    "    print(sess.run(t_pad))\n"
   ]
  },
  {
   "cell_type": "code",
   "execution_count": 4,
   "metadata": {},
   "outputs": [
    {
     "name": "stdout",
     "output_type": "stream",
     "text": [
      "(1, 1, 4, 7)\n",
      "[[[[0 0 0 0 0 0 0]\n",
      "   [0 0 1 2 3 0 0]\n",
      "   [0 0 4 5 6 0 0]\n",
      "   [0 0 0 0 0 0 0]]]]\n"
     ]
    }
   ],
   "source": [
    "t_4d = tf.constant([[[[1, 2, 3], [4, 5, 6]]]])\n",
    "paddings = tf.constant([[0,0], [0,0], [1, 1], [2, 2]])\n",
    "\n",
    "t_pad = tf.pad(t_4d, paddings, \"CONSTANT\")\n",
    "\n",
    "with tf.Session() as sess:\n",
    "    \n",
    "    r = sess.run(t_pad)\n",
    "    print(r.shape)\n",
    "    print(r)"
   ]
  },
  {
   "cell_type": "markdown",
   "metadata": {},
   "source": [
    "## Test: KMaxPooling2D\n",
    "\n",
    "KmaxPooling is a fundamental layer of dynamic cnn. "
   ]
  },
  {
   "cell_type": "markdown",
   "metadata": {},
   "source": [
    "#### Op implementation"
   ]
  },
  {
   "cell_type": "code",
   "execution_count": 5,
   "metadata": {},
   "outputs": [],
   "source": [
    "import math\n",
    "\n",
    "# 20180604 Lin, Y.D.: Read how tensorflow does padding dynamically. \n",
    "def _kmax_pooling2d(X, pool_size, strides, k, padding):\n",
    "    \n",
    "    h_pool = pool_size[0]\n",
    "    w_pool = pool_size[1]\n",
    "\n",
    "    h_stride = strides[0]\n",
    "    w_stride = strides[1]\n",
    "    \n",
    "    h_pad = padding[0]\n",
    "    w_pad = padding[1]\n",
    "    \n",
    "    h = X.shape[1]\n",
    "    w = X.shape[2]\n",
    "    \n",
    "    X = np.reshape(X, (h, w, 1))\n",
    "    \n",
    "    # 20180613 LIN, Y.D. padding has been added in class KMaxPooling2D previosly. No Padding need here\n",
    "    outputs_h = math.ceil((h-h_pool+1)/h_stride)\n",
    "    outputs_w = k * math.ceil((w-w_pool+1)/w_stride)\n",
    "    \n",
    "    # 20180612 LIN, Y.D. Wait to solve boundary problem.\n",
    "    outputs = np.zeros((outputs_h, outputs_w, 1), dtype=np.float64)\n",
    "\n",
    "    m = 0\n",
    "    for _h in range(0, h-h_pad, h_stride):\n",
    "            \n",
    "        n = 0\n",
    "        for _w in range(0, w-w_pad, w_stride):\n",
    "            \n",
    "            flatten_slice = X[_h:_h+h_pool, _w:_w+w_pool].ravel()\n",
    "            top_indices = np.sort(\n",
    "                np.argpartition(flatten_slice, -1*np.arange(k))[h_pool+w_pool-k: h_pool+w_pool])\n",
    "            outputs[m, n:n+k] = np.reshape(flatten_slice[top_indices], (1, k, 1))\n",
    "            \n",
    "            n += k\n",
    "                \n",
    "            if n >= outputs_w:\n",
    "                break\n",
    "\n",
    "        m += 1\n",
    "        if m >= outputs_h:\n",
    "            break\n",
    "            \n",
    "    return outputs\n",
    "\n",
    "    # 20160618 LIN, Y.D. Tensorflow has some limit to get dynamic shape of input. Batch solution pending.\n",
    "    # 20180612 LIN, Y.D. X is a 4-D tensor\n",
    "#     outputs = []\n",
    "#     for _X in X:\n",
    "        \n",
    "#         h = _X.shape[0]\n",
    "#         w = _X.shape[1]\n",
    "    \n",
    "#         # 20180613 LIN, Y.D. padding has been added in class KMaxPooling2D previosly. No Padding need here\n",
    "#         _outputs_h = math.ceil((h-h_pool+1)/h_stride)\n",
    "#         _outputs_w = k * math.ceil((w-w_pool+1)/w_stride)\n",
    "    \n",
    "#         # 20180612 LIN, Y.D. Wait to solve boundary problem.\n",
    "#         _outputs = np.zeros((_outputs_h, _outputs_w, 1), dtype=np.float64)\n",
    "#         outputs.append(_outputs)\n",
    "    \n",
    "#     outputs = np.array(outputs)\n",
    "    \n",
    "    # 20180616 LIN, Y.D.: Batch cannot work so fine. (Pending)\n",
    "#     batch = X.shape[0]\n",
    "#     for _b in range(batch):\n",
    "        \n",
    "#         output_h = X[_b].shape[0]\n",
    "#         output_w = X[_b].shape[1]\n",
    "        \n",
    "#         m = 0\n",
    "#         for _h in range(0, h-h_pad, h_stride):\n",
    "            \n",
    "#             n = 0\n",
    "#             for _w in range(0, w-w_pad, w_stride):\n",
    "            \n",
    "#                 flatten_slice = X[_b, _h:_h+h_pool, _w:_w+w_pool].ravel()\n",
    "#                 top_indices = np.sort(\n",
    "#                     np.argpartition(flatten_slice, -1*np.arange(k))[h_pool+w_pool-k: h_pool+w_pool])\n",
    "#                 outputs[_b, m, n:n+k] = np.reshape(flatten_slice[top_indices], (1, k, 1))\n",
    "            \n",
    "#                 n += k\n",
    "                \n",
    "#                 if n >= output_w:\n",
    "#                     break\n",
    "\n",
    "#             m += 1\n",
    "#             if m >= output_h:\n",
    "#                 break\n",
    "    \n",
    "#     return outputs\n"
   ]
  },
  {
   "cell_type": "markdown",
   "metadata": {},
   "source": [
    "#### Layer Implementation"
   ]
  },
  {
   "cell_type": "code",
   "execution_count": 92,
   "metadata": {},
   "outputs": [],
   "source": [
    "#20180607 LIN, Y.D. \n",
    "class KMaxPooling2D(tf.layers.Layer):\n",
    "    \n",
    "    def __init__(self, pool_size, strides, k, padding='valid', name=None, **kwargs):\n",
    "        \n",
    "        super(KMaxPooling2D, self).__init__(name=name, **kwargs)\n",
    "        \n",
    "        if padding != 'same' and padding != 'valid':\n",
    "            raise ValueError('Invalid Padding Options. Only SAME and VALID are valid.')\n",
    "            \n",
    "        # 20180610 LIN, Y.D. Add the exception when \n",
    "        if strides[0] == 0 and strides[1] == 0:\n",
    "            raise ValueError('Invalid Stride Values: At least 1 stride value should be greater than 0.')\n",
    "\n",
    "        self.k = k\n",
    "        self.padding = padding\n",
    "        self.pool_size = pool_size\n",
    "        self.strides = strides\n",
    "    \n",
    "    def call(self, inputs):\n",
    "        \n",
    "        inputs_shape = inputs.get_shape().as_list()\n",
    "        \n",
    "        if len(inputs_shape) < 4:\n",
    "            raise ValueError('The input should be a 4-D tensor')\n",
    "        \n",
    "        h = inputs_shape[1]\n",
    "        w = inputs_shape[2]\n",
    "        \n",
    "        if inputs_shape == [None, None, None, None]:\n",
    "            return [tf.constant([0]), tf.constant([0]), tf.constant([0]), tf.constant([0])]\n",
    "        \n",
    "        h_stride = self.strides[0]\n",
    "        w_stride = self.strides[1]\n",
    "        \n",
    "        h_pool_s = self.pool_size[0]\n",
    "        w_pool_s = self.pool_size[1]\n",
    "        \n",
    "        # 20180612 LIN, Y.D. \n",
    "        pool_size = tf.constant(self.pool_size, dtype=tf.int32)\n",
    "        strides   = tf.constant(self.strides, dtype=tf.int32)\n",
    "        k = tf.constant(self.k, dtype=tf.int32)\n",
    "        padding = tf.constant([0, 0], dtype=tf.int32)\n",
    "        \n",
    "        if self.padding == 'valid':\n",
    "            if ((h - h_pool_s) / h_stride + 1) % 1 != 0:\n",
    "                raise ValueError('The height is invalid')\n",
    "            if ((w - w_pool_s) / w_stride + 1) % 1 != 0:\n",
    "                raise ValueError('The weight is invalid')\n",
    "        \n",
    "        elif self.padding == 'same':\n",
    "            \n",
    "            h_mod = h % h_stride\n",
    "            w_mod = w % w_stride\n",
    "        \n",
    "            if h_mod == 0:\n",
    "                h_pad = max([h_pool_s - h_stride, 0])\n",
    "            else:\n",
    "                h_pad = max([h_pool_s - h_mod, 0])\n",
    "            \n",
    "            if w_mod == 0:\n",
    "                w_pad = max([w_pool_s - w_stride, 0])\n",
    "            else:\n",
    "                w_pad = max([w_pool_s - w_mod, 0])\n",
    "        \n",
    "            # 20180606 Y.D. Padding input with 0.\n",
    "            h_pad_mod_2 = h_pad % 2\n",
    "            w_pad_mod_2 = w_pad % 2\n",
    "        \n",
    "            if h_pad_mod_2 == 0:\n",
    "                h_pad_top, h_pad_bottom = h_pad//2, h_pad//2\n",
    "            else:\n",
    "                h_pad_top, h_pad_bottom = h_pad//2, h_pad//2 + h_pad_mod_2\n",
    "    \n",
    "            if w_pad_mod_2 == 0:\n",
    "                w_pad_left, w_pad_right = w_pad//2, w_pad//2\n",
    "            else:\n",
    "                w_pad_left, w_pad_right = w_pad//2, w_pad//2 + w_pad_mod_2\n",
    "            \n",
    "            pad_vals = tf.constant(\n",
    "                [[0, 0], [h_pad_top, h_pad_bottom], [w_pad_left, w_pad_right], [0, 0]], \n",
    "                dtype=tf.int32)\n",
    "        \n",
    "            inputs = tf.pad(inputs, pad_vals, \"CONSTANT\")\n",
    "            \n",
    "            # 20180612 LIN, Y.D. Update inputs\n",
    "            padding = tf.constant([h_pad_top+h_pad_bottom, w_pad_left+w_pad_right], dtype=tf.int32)\n",
    "        \n",
    "        \n",
    "        outputs = tf.py_func(_kmax_pooling2d, [inputs, pool_size, strides, k, padding], tf.float64)\n",
    "        \n",
    "        return outputs\n",
    "    "
   ]
  },
  {
   "cell_type": "code",
   "execution_count": 93,
   "metadata": {},
   "outputs": [],
   "source": [
    "def kmax_pooling2d(inputs, pool_size, strides, k, padding, name=None):\n",
    "    return KMaxPooling2D(pool_size, strides, k, padding=padding, name=name).apply(inputs)"
   ]
  },
  {
   "cell_type": "code",
   "execution_count": 95,
   "metadata": {},
   "outputs": [
    {
     "name": "stdout",
     "output_type": "stream",
     "text": [
      "[[[3.]\n",
      "  [1.]\n",
      "  [3.]\n",
      "  [2.]\n",
      "  [3.]\n",
      "  [2.]]\n",
      "\n",
      " [[3.]\n",
      "  [1.]\n",
      "  [1.]\n",
      "  [2.]\n",
      "  [2.]\n",
      "  [0.]]]\n",
      "(2, 6, 1)\n",
      "----------\n",
      "Error is caught successfully\n",
      "Invalid Stride Values: At least 1 stride value should be greater than 0.\n",
      "----------\n",
      "[[[2.]\n",
      "  [3.]\n",
      "  [3.]\n",
      "  [2.]]\n",
      "\n",
      " [[3.]\n",
      "  [2.]\n",
      "  [2.]\n",
      "  [3.]]]\n",
      "(2, 4, 1)\n",
      "----------\n",
      "[[[1.]\n",
      "  [2.]]]\n",
      "(1, 2, 1)\n",
      "----------\n",
      "[[[1.]\n",
      "  [2.]]]\n",
      "(1, 2, 1)\n",
      "----------\n",
      "[[[2.]\n",
      "  [3.]\n",
      "  [0.]\n",
      "  [0.]]\n",
      "\n",
      " [[1.]\n",
      "  [0.]\n",
      "  [0.]\n",
      "  [0.]]]\n",
      "(2, 4, 1)\n",
      "----------\n",
      "The height is invalid\n",
      "Error is caught successfully\n"
     ]
    }
   ],
   "source": [
    "# 20180605 LIN, Y.D.\n",
    "with tf.Session() as sess:\n",
    "    \n",
    "    test_x = np.array([[[1,1,3], [3,1,2]]], dtype=np.float64)\n",
    "    test_input = tf.placeholder(tf.float64, (1, 2, 3))\n",
    "    test_reshape = tf.reshape(test_input, shape=(1,2,3,1))\n",
    "    \n",
    "    # Test Case 1: \n",
    "    test_layer = kmax_pooling2d(test_reshape, [2, 2], [1, 1], 2, 'same')\n",
    "    res = sess.run(test_layer, feed_dict={ test_input: test_x })\n",
    "    print(res)\n",
    "    print(res.shape)\n",
    "    print('-' * 10)\n",
    "    \n",
    "    # Test Case 2: Test if exception work.\n",
    "    try:\n",
    "        test_layer_2 = kmax_pooling2d(test_reshape, [3, 3], [0, 0], 2, 'same')\n",
    "        res = sess.run(test_layer_2, feed_dict={test_input: test_x })\n",
    "        print(res)\n",
    "        print(res.shape)\n",
    "    except ValueError as e:\n",
    "        print('Error is caught successfully')\n",
    "        print(e)\n",
    "        pass\n",
    "    print('-' * 10)\n",
    "    \n",
    "    # Test Case 3: Test Valid\n",
    "    test_x_3 = np.array([[[1, 2, 3], [3, 1, 2], [2, 1, 3]]], dtype=np.float64)\n",
    "    test_input_3 = tf.placeholder(tf.float64, (1, 3, 3))\n",
    "    test_reshape_3 = tf.reshape(test_input_3, (1, 3, 3, 1))\n",
    "    test_layer_3 = kmax_pooling2d(test_reshape_3, [2, 2], [1, 1], 2, 'valid')\n",
    "    res = sess.run(test_layer_3, feed_dict={ test_input_3: test_x_3 })\n",
    "    \n",
    "    print(res)\n",
    "    print(res.shape)\n",
    "    print('-' * 10)\n",
    "    \n",
    "    # Test Case 4: If the first stride will cross over the border.\n",
    "    test_layer_4 = kmax_pooling2d(test_reshape_3, [3, 3], [3, 3], 2, 'same')\n",
    "    res = sess.run(test_layer_4, feed_dict={ test_input_3: test_x_3 })\n",
    "    \n",
    "    print(res)\n",
    "    print(res.shape)\n",
    "    print('-' * 10)\n",
    "    \n",
    "    # Test Case 5: Continue the previous test, we use valid as padding policy\n",
    "    test_layer_5 = kmax_pooling2d(test_reshape_3, [3, 3], [3, 3], 2, 'valid')\n",
    "    res = sess.run(test_layer_5, feed_dict={ test_input_3: test_x_3 })\n",
    "    \n",
    "    print(res)\n",
    "    print(res.shape)\n",
    "    print('-' * 10)\n",
    "    \n",
    "    # Test Case 6: Filter should not bigger than the input matrix\n",
    "    test_layer_6 = kmax_pooling2d(test_reshape_3, [4, 4], [2, 2], 2, 'same')\n",
    "    res = sess.run(test_layer_6, feed_dict={ test_input_3: test_x_3 })\n",
    "    \n",
    "    print(res)\n",
    "    print(res.shape)\n",
    "    print('-' * 10)\n",
    "    \n",
    "    # Test Case 7:  \n",
    "    try:\n",
    "        test_layer_7 = kmax_pooling2d(test_reshape_3, [4, 4], [2, 2], 2, 'valid')\n",
    "        res = sess.run(test_layer_7, feed_dict={ test_input_3: test_x_3 })\n",
    "        print(res)\n",
    "        print(res.shape)\n",
    "        print('-' * 10)\n",
    "    except ValueError as e:\n",
    "        print(e)\n",
    "        print('Error is caught successfully')\n",
    "        "
   ]
  },
  {
   "cell_type": "markdown",
   "metadata": {},
   "source": [
    "#### Train a simple model with kmaxpooling\n"
   ]
  },
  {
   "cell_type": "code",
   "execution_count": null,
   "metadata": {},
   "outputs": [],
   "source": []
  },
  {
   "cell_type": "code",
   "execution_count": null,
   "metadata": {},
   "outputs": [],
   "source": []
  },
  {
   "cell_type": "markdown",
   "metadata": {},
   "source": [
    "## Test: Folding\n",
    "\n",
    "Folding is introduced before the last KMax layer."
   ]
  },
  {
   "cell_type": "code",
   "execution_count": null,
   "metadata": {},
   "outputs": [],
   "source": []
  },
  {
   "cell_type": "markdown",
   "metadata": {},
   "source": [
    "## Test: Varied Length Input\n",
    "\n",
    "Varied length of text as input.\n"
   ]
  },
  {
   "cell_type": "code",
   "execution_count": null,
   "metadata": {},
   "outputs": [],
   "source": []
  },
  {
   "cell_type": "markdown",
   "metadata": {},
   "source": [
    "## Test: Stack a \"non-deep\" dcnn (1)\n",
    "\n",
    "We stack a shallow dcnn to make sure no bug exists in inference stage.\n"
   ]
  },
  {
   "cell_type": "code",
   "execution_count": null,
   "metadata": {},
   "outputs": [],
   "source": []
  },
  {
   "cell_type": "markdown",
   "metadata": {},
   "source": [
    "## Test: Stack a \"non-deep\" dcnn (2)\n",
    "\n",
    "Train a \"non-deep\" dcnn with varied length as input."
   ]
  },
  {
   "cell_type": "code",
   "execution_count": null,
   "metadata": {},
   "outputs": [],
   "source": []
  },
  {
   "cell_type": "code",
   "execution_count": null,
   "metadata": {},
   "outputs": [],
   "source": []
  }
 ],
 "metadata": {
  "kernelspec": {
   "display_name": "Python 3",
   "language": "python",
   "name": "python3"
  },
  "language_info": {
   "codemirror_mode": {
    "name": "ipython",
    "version": 3
   },
   "file_extension": ".py",
   "mimetype": "text/x-python",
   "name": "python",
   "nbconvert_exporter": "python",
   "pygments_lexer": "ipython3",
   "version": "3.6.1"
  }
 },
 "nbformat": 4,
 "nbformat_minor": 2
}
